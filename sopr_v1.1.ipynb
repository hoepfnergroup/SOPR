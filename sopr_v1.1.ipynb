{
 "cells": [
  {
   "cell_type": "code",
   "execution_count": 1,
   "id": "79831ec5",
   "metadata": {},
   "outputs": [],
   "source": [
    "#Import computational packages\n",
    "import numpy as np                         \n",
    "import matplotlib.pyplot as plt                      \n",
    "from scipy.optimize import fsolve      \n",
    "from scipy.optimize import curve_fit   \n",
    "from scipy import interpolate         \n",
    "\n",
    "import pandas as pd                   \n",
    "import csv                              \n",
    "import gsd                           \n",
    "import time\n",
    "import math\n",
    "import itertools\n",
    "\n",
    "from calculate_rdf import snap_molecule_indices, intermolecular_rdf\n",
    "from hoomd_sim import mie_fluid, table_fluid\n",
    "from gaussian_process import inv_radius, ise_kernel, gpr_ise, radius, se_kernel, gpr_se"
   ]
  },
  {
   "cell_type": "code",
   "execution_count": 2,
   "id": "7064d417",
   "metadata": {},
   "outputs": [
    {
     "data": {
      "image/png": "[encoded data removed]",
      "text/plain": [
       "<Figure size 640x480 with 1 Axes>"
      ]
     },
     "metadata": {},
     "output_type": "display_data"
    }
   ],
   "source": [
    "#Read in structure data\n",
    "data   = pd.read_csv ('../data/rdf_ne42K.csv') \n",
    "g_r    = pd.DataFrame (data, columns = ['r','g']) \n",
    "expRDF = g_r.values \n",
    "r, rdf = zip(*expRDF) \n",
    "\n",
    "#Interpolate experimental radial distribution\n",
    "r_points = 500                                       #number of points in rdf and tabulated potential\n",
    "exp_r    = np.linspace(r[0], r[-1], r_points)        #divide by 10 to convert from Å to nm\n",
    "sp       = interpolate.splrep(np.array(r), rdf, s=0)\n",
    "exp_rdf  = interpolate.splev(exp_r, sp, der=0)\n",
    "\n",
    "plt.plot(exp_r, exp_rdf, color = 'k', label = 'Experiment', linestyle = '--')\n",
    "plt.xlabel('r (nm)', fontsize = 12)\n",
    "plt.ylabel('g(r)'  , fontsize = 12)\n",
    "plt.legend()\n",
    "plt.show()"
   ]
  },
  {
   "cell_type": "code",
   "execution_count": 3,
   "id": "5550238b",
   "metadata": {},
   "outputs": [],
   "source": [
    "#Define particle\n",
    "name = \"Ne\"\n",
    "\n",
    "#Thermodynamic state variables\n",
    "k   = 3.29982916e-27 #boltzmann constant,   [kcal/K/particle]   \n",
    "av  = 6.0223e23      #avagadro number,      [particle/mol]  \n",
    "T   = 42.2           #temperature,          [K]\n",
    "kbT = k * av * T     #thermal energy,       [kcal/mol]\n",
    "ρ   = 0.02477        #experimental density, [particle/Å^3]   \n",
    "\n",
    "#Simulation settings\n",
    "δt    = 0.002        #timestep, [~0.5 ps] -> δt = 0.01 => δt ~ 5 fs\n",
    "eq    = 1e4          #total equilibration timesteps, []\n",
    "prod  = 1e5          #total production timesteps, []\n",
    "\n",
    "#Mie reference potential parameters \n",
    "#Note that the reference potential should not be shifted too far to low r or the SOPR potential may not updated properly \n",
    "ref_n = 12           #repulsion exponent,   []\n",
    "ref_ϵ = 0.10         #dispersion energy,    [kcal/mol]\n",
    "ref_σ = 2.78         #collision diameter,   [nm]\n",
    "\n",
    "#Select a reference potential (we will use an (n-6) Mie potential)\n",
    "def mie_pot(r, n, ϵ, σ):\n",
    "    return (n/(n-6))*(n/6)**(6/(n-6))*ϵ*((σ/r)**n - (σ/r)**6)"
   ]
  },
  {
   "cell_type": "code",
   "execution_count": 4,
   "id": "6a0e2bf3",
   "metadata": {},
   "outputs": [],
   "source": [
    "#Structure-optimized potential refinement settings\n",
    "sopr_r_init   = np.ones(len(exp_rdf))  #reference simulated r-values\n",
    "sopr_rdf_init = np.ones(len(exp_rdf))  #reference simulated rdf \n",
    "γ             = 0.25                   #scaling constant to improve numerical stability\n",
    "  \n",
    "it_number  = list()                    #used to keep track of iteration\n",
    "sum_cont   = np.zeros(len(exp_r))      #continuous sum of the difference in the rdfs from SOPR equation\n",
    "rdf_diff   = np.ones(len(exp_rdf))     #temporary rdf difference function to calculate sum-of-square residuals \n",
    "track_ssr  = list()                    #track sum-of-square residuals between experimental and simulated rdf\n",
    "tolerance  = 5.0e-4                    #defined as average ssr = ssr/(number of points in rdf) (default = 0.0001) \n",
    "iterations = 10                        #max number of iterations. Added to terminate program if not converged  "
   ]
  },
  {
   "cell_type": "code",
   "execution_count": null,
   "id": "0659842c",
   "metadata": {},
   "outputs": [
    {
     "name": "stdout",
     "output_type": "stream",
     "text": [
      "0\n"
     ]
    },
    {
     "name": "stderr",
     "output_type": "stream",
     "text": [
      "/opt/anaconda3/envs/sopr/lib/python3.12/site-packages/hoomd/update/box_resize.py:147: FutureWarning: box1, box2, and variant are deprecated, use `box`\n",
      "  warnings.warn('box1, box2, and variant are deprecated, use `box`',\n"
     ]
    },
    {
     "name": "stdout",
     "output_type": "stream",
     "text": [
      "0.05025870555876212\n",
      "1\n",
      "0.002771214964848617\n",
      "2\n",
      "0.002273843589122159\n",
      "3\n",
      "0.0018304270121230189\n",
      "4\n",
      "0.0014066571942883113\n",
      "5\n",
      "0.001219721758069549\n",
      "6\n",
      "0.0011506765043030542\n",
      "7\n",
      "0.001030374458924384\n",
      "8\n"
     ]
    }
   ],
   "source": [
    "for i in range (iterations):\n",
    "    it_number.append(i)                                                \n",
    "    print(i)\n",
    "    \n",
    "    #Initialize SOPR with Mie potential simulation \n",
    "    if i == 0:  \n",
    "        mie_fluid(it = i, m = 7, spacing = 1.5, name = name, timestep = δt, \n",
    "                  n = ref_n, sigma = ref_σ, epsilon = ref_ϵ, kbT = kbT, density = ρ, \n",
    "                  eq_time = eq, production_time = prod)\n",
    "        \n",
    "        #compute rdf\n",
    "        rdf, normalization = intermolecular_rdf(gsdfile = 'traj/mie' + str(i) + '.gsd', A_name = name, B_name = name, \n",
    "                                                start = 0, stop = None, r_max = exp_r[-1], r_min = exp_r[0], \n",
    "                                                bins = r_points, exclude_bonded = False)\n",
    "        sopr_r_init   = rdf.bin_centers\n",
    "        sopr_rdf_init = rdf.rdf\n",
    "        sopr_r        = rdf.bin_centers\n",
    "        sopr_rdf      = rdf.rdf\n",
    "    \n",
    "    else:\n",
    "        rmin = exp_r[0]\n",
    "        rcut = exp_r[-1]\n",
    "        table_fluid(it = i, m = 7, spacing = 2, name = name, timestep = δt, \n",
    "        kbT = kbT, density = ρ, eq_time = eq, production_time = prod,\n",
    "        V = V, F = F, rmin = rmin, rcut = rcut)\n",
    "        \n",
    "        #compute rdf\n",
    "        rdf, normalization = intermolecular_rdf(gsdfile = 'traj/traj' + str(i) + '.gsd', A_name = name, B_name = name, \n",
    "                                                start = 0, stop = None, r_max = exp_r[-1], r_min = exp_r[0], \n",
    "                                                bins = r_points, exclude_bonded = False)\n",
    "        sopr_r   = rdf.bin_centers\n",
    "        sopr_rdf = rdf.rdf    \n",
    "    delg            = np.zeros(len(sopr_r))    #temporary rdf difference function added to continuous sum \n",
    "    new_potential   = np.zeros(len(sopr_rdf))  #tabulated potential updated with SOPR equation \n",
    "    ϕ               = []                       #new variable for tabulated potential to accomodate Gaussian process \n",
    "    GP_r            = []                       #r-values where the Gaussian process is applied\n",
    "    GP              = []                       #Gaussian process regressed tabulated potential array\n",
    "\n",
    "    #Numerical implementation of SOPR equation\n",
    "    for j in range (len(sopr_r)):\n",
    "        if sopr_r[j] <= 0.9*ref_σ:\n",
    "            ϕ.append(mie_pot(sopr_r[j], ref_n, ref_ϵ, ref_σ))\n",
    "        else:\n",
    "            delg[j]          = (exp_rdf[j] - sopr_rdf[j])*kbT*γ                  #refinement equation\n",
    "            sum_cont[j]      = sum_cont[j] + delg[j]\n",
    "            new_potential[j] = mie_pot(sopr_r[j], ref_n, ref_ϵ, ref_σ) - sum_cont[j]\n",
    "            GP_r.append(sopr_r[j])\n",
    "            GP.append(new_potential[j])\n",
    "            \n",
    "    Rdd = inv_radius(np.array(GP_r, dtype='float64'), np.array(GP_r, dtype='float64'))  \n",
    "    #inverse squared-exponential kernel gives a function that has a short length scale near the potential bowl and long length scale tail\n",
    "    Kdd = ise_kernel(w = 0.01, ℓ = 4.3, R = Rdd)\n",
    "    #the length-scale hyperparameter l_hyp should be chosen roughly where the potential transitions from short to long range\n",
    "    μ_post, σ_post = gpr_ise(Kdd, GP_r, GP, yinf_min = GP_r[0], \n",
    "                             yinf_max = GP_r[-1], y_bins = len(GP_r), w_hyp = 0.01, l_hyp = 4.3)\n",
    "    \n",
    "    #append Gaussian process regressed points to preserved points at lower-r\n",
    "    for l in range (len(GP)):\n",
    "        ϕ.append(μ_post[l])\n",
    "    \n",
    "    #Use interpolate command to move data into proper format and calculate numerical derivative (force)\n",
    "    sp  =  interpolate.splrep(sopr_r, ϕ, s=0)\n",
    "    V   =  interpolate.splev (sopr_r, sp, der=0)\n",
    "    F   = -interpolate.splev (sopr_r, sp, der=1)\n",
    "\n",
    "    #Check for convergence\n",
    "    sum_squares = 0\n",
    "    for k in range (len(sopr_r)):                     \n",
    "        rdf_diff[k] = exp_rdf[k] - sopr_rdf[k]\n",
    "        sum_squares += rdf_diff[k]**2          #sum-of-square residuals between simulated and experimental data\n",
    "    \n",
    "    track_ssr.append(sum_squares/len(exp_r))\n",
    "    print(track_ssr[i])\n",
    "    if track_ssr[i] <= tolerance:\n",
    "        break"
   ]
  },
  {
   "cell_type": "code",
   "execution_count": null,
   "id": "b968f6b1",
   "metadata": {},
   "outputs": [],
   "source": [
    "plt.plot(exp_r, exp_rdf, label = 'Experiment', color = 'k', linestyle = '--')\n",
    "plt.plot(sopr_r_init, sopr_rdf_init, label = 'Reference', color = 'b')\n",
    "plt.plot(sopr_r, sopr_rdf, label = 'SOPR Converged', color = 'r')\n",
    "plt.xlim(1.2, 10)\n",
    "plt.ylim(-0.1, 3.5)\n",
    "plt.xlabel('r (Å)', fontsize = 16)\n",
    "plt.ylabel('g(r)', fontsize = 16)\n",
    "plt.title('Radial Distribution Functions', fontsize = 16)\n",
    "plt.legend(fontsize = 16)\n",
    "plt.show()"
   ]
  },
  {
   "cell_type": "code",
   "execution_count": null,
   "id": "9fc720bb",
   "metadata": {},
   "outputs": [],
   "source": [
    "plt.plot(sopr_r, mie_pot(sopr_r, ref_n, ref_ϵ, ref_σ), label = 'Ref. Quantum Pair', color = 'k', linestyle = '--')\n",
    "plt.plot(GP_r, GP - GP[-1], label = 'Tabulated Potential', color = 'b', alpha = 0.75)\n",
    "plt.plot(sopr_r, V, label = 'Gaussian Process Potential', color = 'r')\n",
    "plt.xlim(2.5, 10)\n",
    "plt.ylim(-0.12, 0.1)\n",
    "plt.xlabel('r (Å)', fontsize = 16)\n",
    "plt.ylabel('ϕ(r) [kcal/mol]', fontsize = 16)\n",
    "plt.title('Structure-Optimized Potentials', fontsize = 16)\n",
    "plt.legend(loc = 'best', fontsize = 16)\n",
    "plt.show()"
   ]
  },
  {
   "cell_type": "code",
   "execution_count": null,
   "id": "43a0ef97",
   "metadata": {},
   "outputs": [],
   "source": [
    "plt.plot(it_number[:-1], track_ssr/track_ssr[0])\n",
    "plt.xlabel('Iteration (n)', fontsize = 16)\n",
    "plt.ylabel('R/R$_i$', fontsize = 16)\n",
    "plt.title('Relative Error vs Iteration Number', fontsize = 16)\n",
    "plt.show()"
   ]
  },
  {
   "cell_type": "code",
   "execution_count": null,
   "id": "ec1e776d-b04f-440b-bbc9-06a9e9e4f533",
   "metadata": {},
   "outputs": [],
   "source": []
  }
 ],
 "metadata": {
  "kernelspec": {
   "display_name": "Python 3 (ipykernel)",
   "language": "python",
   "name": "python3"
  },
  "language_info": {
   "codemirror_mode": {
    "name": "ipython",
    "version": 3
   },
   "file_extension": ".py",
   "mimetype": "text/x-python",
   "name": "python",
   "nbconvert_exporter": "python",
   "pygments_lexer": "ipython3",
   "version": "3.12.4"
  }
 },
 "nbformat": 4,
 "nbformat_minor": 5
}
